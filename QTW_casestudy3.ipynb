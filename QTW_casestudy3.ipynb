{
 "cells": [
  {
   "cell_type": "code",
   "execution_count": 1,
   "id": "c7df953a",
   "metadata": {},
   "outputs": [],
   "source": [
    "import pandas as pd\n",
    "import os\n",
    "from collections import Counter, defaultdict\n",
    "import matplotlib.pyplot as plt\n",
    "import numpy as np\n",
    "from sklearn.metrics import ConfusionMatrixDisplay, confusion_matrix\n",
    "from sklearn.model_selection import train_test_split\n",
    "from sklearn.utils import resample\n",
    "from sklearn.metrics import classification_report, confusion_matrix, ConfusionMatrixDisplay\n",
    "import seaborn as sns\n",
    "from sklearn.feature_extraction.text import TfidfVectorizer\n",
    "from sklearn.cluster import KMeans\n",
    "from sklearn import metrics\n",
    "from time import time"
   ]
  },
  {
   "cell_type": "markdown",
   "id": "7b74dcac",
   "metadata": {},
   "source": [
    "tmp = os.listdir(\"C:/Users/Alex M/Downloads/SpamAssassinMessages/easy_ham\")"
   ]
  },
  {
   "cell_type": "markdown",
   "id": "cd7ee714",
   "metadata": {
    "scrolled": true
   },
   "source": [
    "ignore warning, code runs properly\n",
    "x = []\n",
    "\n",
    "for i in tmp:\n",
    "    with  open(os.path.join(\"C:/Users/Alex M/Downloads/SpamAssassinMessages/easy_ham\", i), 'r', encoding = \"cp437\") as f:\n",
    "        x.append(f.read())\n",
    "        print(x)"
   ]
  },
  {
   "cell_type": "markdown",
   "id": "46e149fc",
   "metadata": {},
   "source": [
    "y = [0]*len(x)"
   ]
  },
  {
   "cell_type": "markdown",
   "id": "efe3e7b4",
   "metadata": {},
   "source": [
    "df1 = pd.DataFrame(list(zip(x, y)), columns =['text', 'target']) \n",
    "df1.head()"
   ]
  },
  {
   "cell_type": "markdown",
   "id": "3963fbc0",
   "metadata": {},
   "source": [
    "tmp = os.listdir(\"C:/Users/Alex M/Downloads/SpamAssassinMessages/easy_ham_2\")"
   ]
  },
  {
   "cell_type": "markdown",
   "id": "e7a059b2",
   "metadata": {},
   "source": [
    "x = []\n",
    "\n",
    "for i in tmp:\n",
    "    with  open(os.path.join(\"C:/Users/Alex M/Downloads/SpamAssassinMessages/easy_ham_2\", i), 'r', encoding = \"cp437\") as f:\n",
    "        x.append(f.read())\n",
    "        print(x)"
   ]
  },
  {
   "cell_type": "markdown",
   "id": "0c6c5aa3",
   "metadata": {},
   "source": [
    "y = [0]*len(x)"
   ]
  },
  {
   "cell_type": "markdown",
   "id": "7a0ba0e7",
   "metadata": {},
   "source": [
    "df2 = pd.DataFrame(list(zip(x, y)), columns =['text', 'target']) \n",
    "df2.head()"
   ]
  },
  {
   "cell_type": "markdown",
   "id": "2a6fcb7c",
   "metadata": {},
   "source": [
    "tmp = os.listdir(\"C:/Users/Alex M/Downloads/SpamAssassinMessages/hard_ham\")"
   ]
  },
  {
   "cell_type": "markdown",
   "id": "e46dfa6a",
   "metadata": {},
   "source": [
    "x = []\n",
    "\n",
    "for i in tmp:\n",
    "    with  open(os.path.join(\"C:/Users/Alex M/Downloads/SpamAssassinMessages/hard_ham\", i), 'r', encoding = \"cp437\") as f:\n",
    "        x.append(f.read())\n",
    "        print(x)"
   ]
  },
  {
   "cell_type": "markdown",
   "id": "d70c9a97",
   "metadata": {},
   "source": [
    "y = [0]*len(x)"
   ]
  },
  {
   "cell_type": "markdown",
   "id": "f7412388",
   "metadata": {},
   "source": [
    "df3 = pd.DataFrame(list(zip(x, y)), columns =['text', 'target']) \n",
    "df3.head()"
   ]
  },
  {
   "cell_type": "markdown",
   "id": "70bf9fb9",
   "metadata": {},
   "source": [
    "tmp = os.listdir(\"C:/Users/Alex M/Downloads/SpamAssassinMessages/spam\")"
   ]
  },
  {
   "cell_type": "markdown",
   "id": "76ed8842",
   "metadata": {},
   "source": [
    "x = []\n",
    "\n",
    "for i in tmp:\n",
    "    with  open(os.path.join(\"C:/Users/Alex M/Downloads/SpamAssassinMessages/spam\", i), 'r', encoding = \"cp437\") as f:\n",
    "        x.append(f.read())\n",
    "        print(x)"
   ]
  },
  {
   "cell_type": "markdown",
   "id": "ccbfdf34",
   "metadata": {},
   "source": [
    "y = [1]*len(x)"
   ]
  },
  {
   "cell_type": "markdown",
   "id": "1aa488ad",
   "metadata": {},
   "source": [
    "df4 = pd.DataFrame(list(zip(x, y)), columns =['text', 'target']) \n",
    "df4.head()"
   ]
  },
  {
   "cell_type": "markdown",
   "id": "e3e84473",
   "metadata": {},
   "source": [
    "tmp = os.listdir(\"C:/Users/Alex M/Downloads/SpamAssassinMessages/spam_2\")"
   ]
  },
  {
   "cell_type": "markdown",
   "id": "dc6c673d",
   "metadata": {},
   "source": [
    "x = []\n",
    "\n",
    "for i in tmp:\n",
    "    with  open(os.path.join(\"C:/Users/Alex M/Downloads/SpamAssassinMessages/spam_2\", i), 'r', encoding = \"cp437\") as f:\n",
    "        x.append(f.read())\n",
    "        print(x)"
   ]
  },
  {
   "cell_type": "markdown",
   "id": "4c9e0c74",
   "metadata": {},
   "source": [
    "y = [1]*len(x)"
   ]
  },
  {
   "cell_type": "markdown",
   "id": "7b907325",
   "metadata": {},
   "source": [
    "df5 = pd.DataFrame(list(zip(x, y)), columns =['text', 'target']) \n",
    "df5.head()"
   ]
  },
  {
   "cell_type": "markdown",
   "id": "79ef8a20",
   "metadata": {},
   "source": [
    "frames = [df1, df2, df3, df4, df5]"
   ]
  },
  {
   "cell_type": "markdown",
   "id": "8d57ee9f",
   "metadata": {},
   "source": [
    "final = pd.concat(frames)"
   ]
  },
  {
   "cell_type": "markdown",
   "id": "ca61b7d0",
   "metadata": {},
   "source": [
    "final.shape"
   ]
  },
  {
   "cell_type": "markdown",
   "id": "d1f70a1e",
   "metadata": {},
   "source": [
    "os.makedirs(\"C:/Users/Alex M/Downloads/SpamAssassinMessages\", exist_ok=True)  \n",
    "final.to_csv(\"C:/Users/Alex M/Downloads/SpamAssassinMessages/final.csv\") "
   ]
  },
  {
   "cell_type": "code",
   "execution_count": 56,
   "id": "315ef0f8",
   "metadata": {},
   "outputs": [],
   "source": [
    "final = pd.read_csv(r'C:/Users/Alex M/Downloads/SpamAssassinMessages/final.csv',low_memory = False)"
   ]
  },
  {
   "cell_type": "code",
   "execution_count": 57,
   "id": "88f568cc",
   "metadata": {},
   "outputs": [
    {
     "data": {
      "image/png": "[encoded data removed]",
      "text/plain": [
       "<Figure size 640x480 with 1 Axes>"
      ]
     },
     "metadata": {},
     "output_type": "display_data"
    }
   ],
   "source": [
    "fig = plt.figure()\n",
    "# plt.figure(figsize=(1,1))\n",
    "ax = fig.add_axes([0,0,1,1])\n",
    "labels = ['Ham', 'Spam']\n",
    "ax.bar(labels,final['target'].value_counts())\n",
    "plt.ylabel('Emails Counts')\n",
    "plt.title('Counts of Spam/Ham Emails')\n",
    "plt.show()\n"
   ]
  },
  {
   "cell_type": "code",
   "execution_count": 31,
   "id": "5cf5d9d2",
   "metadata": {},
   "outputs": [
    {
     "data": {
      "text/plain": [
       "0    6954\n",
       "1    2399\n",
       "Name: target, dtype: int64"
      ]
     },
     "execution_count": 31,
     "metadata": {},
     "output_type": "execute_result"
    }
   ],
   "source": [
    "final['target'].value_counts()"
   ]
  },
  {
   "cell_type": "code",
   "execution_count": 32,
   "id": "5e3953f0",
   "metadata": {},
   "outputs": [],
   "source": [
    "ham_messages = final[final[\"target\"] == 0]\n",
    "spam_messages  = final[final[\"target\"] == 1]"
   ]
  },
  {
   "cell_type": "code",
   "execution_count": 34,
   "id": "139cda45",
   "metadata": {},
   "outputs": [
    {
     "name": "stdout",
     "output_type": "stream",
     "text": [
      "(6954, 3)\n",
      "(2399, 3)\n"
     ]
    }
   ],
   "source": [
    "print(ham_messages.shape)\n",
    "print(spam_messages.shape)"
   ]
  },
  {
   "cell_type": "code",
   "execution_count": 35,
   "id": "68dd9d79",
   "metadata": {},
   "outputs": [
    {
     "name": "stdout",
     "output_type": "stream",
     "text": [
      "(2399, 3)\n"
     ]
    }
   ],
   "source": [
    "ham_downsample = resample(ham_messages,\n",
    "             replace=True,\n",
    "             n_samples=len(spam_messages),\n",
    "             random_state=42)\n",
    "\n",
    "print(ham_downsample.shape)"
   ]
  },
  {
   "cell_type": "code",
   "execution_count": 33,
   "id": "d6de76b6",
   "metadata": {},
   "outputs": [
    {
     "data": {
      "text/plain": [
       "<bound method NDFrame.head of       Unnamed: 0                                               text  target\n",
       "0              0  From exmh-workers-admin@redhat.com  Thu Aug 22...       0\n",
       "1              1  From Steve_Burt@cursor-system.com  Thu Aug 22 ...       0\n",
       "2              2  From timc@2ubh.com  Thu Aug 22 13:52:59 2002\\n...       0\n",
       "3              3  From irregulars-admin@tb.tf  Thu Aug 22 14:23:...       0\n",
       "4              4  From Stewart.Smith@ee.ed.ac.uk  Thu Aug 22 14:...       0\n",
       "...          ...                                                ...     ...\n",
       "9348        1393  From tba@insiq.us  Wed Dec  4 11:46:34 2002\\nR...       1\n",
       "9349        1394  Return-Path: <raye@yahoo.lv>\\nReceived: from u...       1\n",
       "9350        1395  From cweqx@dialix.oz.au  Tue Aug  6 11:03:54 2...       1\n",
       "9351        1396  From ilug-admin@linux.ie  Wed Dec  4 11:52:36 ...       1\n",
       "9352        1397  mv 00001.317e78fa8ee2f54cd4890fdc09ba8176 0000...       1\n",
       "\n",
       "[9353 rows x 3 columns]>"
      ]
     },
     "execution_count": 33,
     "metadata": {},
     "output_type": "execute_result"
    }
   ],
   "source": [
    "final.head"
   ]
  },
  {
   "cell_type": "code",
   "execution_count": 38,
   "id": "d1d83bf9",
   "metadata": {},
   "outputs": [
    {
     "name": "stdout",
     "output_type": "stream",
     "text": [
      "(4798, 3)\n"
     ]
    }
   ],
   "source": [
    "final = pd.concat([ham_downsample, spam_messages])\n",
    "print(final.shape)"
   ]
  },
  {
   "cell_type": "code",
   "execution_count": 39,
   "id": "c4b0c2cc",
   "metadata": {},
   "outputs": [
    {
     "name": "stdout",
     "output_type": "stream",
     "text": [
      "<class 'pandas.core.frame.DataFrame'>\n",
      "Int64Index: 4798 entries, 860 to 9352\n",
      "Data columns (total 3 columns):\n",
      " #   Column      Non-Null Count  Dtype \n",
      "---  ------      --------------  ----- \n",
      " 0   Unnamed: 0  4798 non-null   int64 \n",
      " 1   text        4798 non-null   object\n",
      " 2   target      4798 non-null   int64 \n",
      "dtypes: int64(2), object(1)\n",
      "memory usage: 149.9+ KB\n"
     ]
    }
   ],
   "source": [
    "final.info()"
   ]
  },
  {
   "cell_type": "code",
   "execution_count": null,
   "id": "6f830b75",
   "metadata": {},
   "outputs": [],
   "source": [
    "# Naive Bayes"
   ]
  },
  {
   "cell_type": "code",
   "execution_count": 41,
   "id": "6fe62b66",
   "metadata": {},
   "outputs": [],
   "source": [
    "x = final['text']\n",
    "y = final['target']"
   ]
  },
  {
   "cell_type": "code",
   "execution_count": 42,
   "id": "7d69e8c1",
   "metadata": {},
   "outputs": [
    {
     "data": {
      "text/plain": [
       "860     From fork-admin@xent.com  Thu Sep 26 11:04:45 ...\n",
       "5390    From ilug-admin@linux.ie  Mon Aug 12 11:07:18 ...\n",
       "5226    From ilug-admin@linux.ie  Wed Jul 31 12:31:04 ...\n",
       "5191    From ilug-admin@linux.ie  Mon Jul 29 11:28:30 ...\n",
       "3772    From rpm-list-admin@freshrpms.net  Mon Sep 23 ...\n",
       "Name: text, dtype: object"
      ]
     },
     "execution_count": 42,
     "metadata": {},
     "output_type": "execute_result"
    }
   ],
   "source": [
    "x.head()"
   ]
  },
  {
   "cell_type": "code",
   "execution_count": 43,
   "id": "3947f18c",
   "metadata": {},
   "outputs": [],
   "source": [
    "X_train, X_test, y_train, y_test = train_test_split(x, y, test_size=0.33, random_state=42)"
   ]
  },
  {
   "cell_type": "code",
   "execution_count": 44,
   "id": "cf699374",
   "metadata": {},
   "outputs": [],
   "source": [
    "X_train = X_train.str.replace(\"\\n\",\" \")\n",
    "X_test = X_test.str.replace(\"\\n\",\" \")"
   ]
  },
  {
   "cell_type": "code",
   "execution_count": 45,
   "id": "d2f91773",
   "metadata": {},
   "outputs": [],
   "source": [
    "from sklearn.naive_bayes import MultinomialNB\n",
    "from sklearn.feature_extraction.text import CountVectorizer\n",
    "the_count = CountVectorizer()\n",
    "X = the_count.fit_transform(X_train)"
   ]
  },
  {
   "cell_type": "code",
   "execution_count": 46,
   "id": "d78c09ae",
   "metadata": {},
   "outputs": [],
   "source": [
    "vocab = the_count.vocabulary_\n",
    "rev = {j:i for i,j in vocab.items()}"
   ]
  },
  {
   "cell_type": "code",
   "execution_count": 47,
   "id": "2497f55e",
   "metadata": {},
   "outputs": [
    {
     "data": {
      "text/html": [
       "<style>#sk-container-id-2 {color: black;background-color: white;}#sk-container-id-2 pre{padding: 0;}#sk-container-id-2 div.sk-toggleable {background-color: white;}#sk-container-id-2 label.sk-toggleable__label {cursor: pointer;display: block;width: 100%;margin-bottom: 0;padding: 0.3em;box-sizing: border-box;text-align: center;}#sk-container-id-2 label.sk-toggleable__label-arrow:before {content: \"▸\";float: left;margin-right: 0.25em;color: #696969;}#sk-container-id-2 label.sk-toggleable__label-arrow:hover:before {color: black;}#sk-container-id-2 div.sk-estimator:hover label.sk-toggleable__label-arrow:before {color: black;}#sk-container-id-2 div.sk-toggleable__content {max-height: 0;max-width: 0;overflow: hidden;text-align: left;background-color: #f0f8ff;}#sk-container-id-2 div.sk-toggleable__content pre {margin: 0.2em;color: black;border-radius: 0.25em;background-color: #f0f8ff;}#sk-container-id-2 input.sk-toggleable__control:checked~div.sk-toggleable__content {max-height: 200px;max-width: 100%;overflow: auto;}#sk-container-id-2 input.sk-toggleable__control:checked~label.sk-toggleable__label-arrow:before {content: \"▾\";}#sk-container-id-2 div.sk-estimator input.sk-toggleable__control:checked~label.sk-toggleable__label {background-color: #d4ebff;}#sk-container-id-2 div.sk-label input.sk-toggleable__control:checked~label.sk-toggleable__label {background-color: #d4ebff;}#sk-container-id-2 input.sk-hidden--visually {border: 0;clip: rect(1px 1px 1px 1px);clip: rect(1px, 1px, 1px, 1px);height: 1px;margin: -1px;overflow: hidden;padding: 0;position: absolute;width: 1px;}#sk-container-id-2 div.sk-estimator {font-family: monospace;background-color: #f0f8ff;border: 1px dotted black;border-radius: 0.25em;box-sizing: border-box;margin-bottom: 0.5em;}#sk-container-id-2 div.sk-estimator:hover {background-color: #d4ebff;}#sk-container-id-2 div.sk-parallel-item::after {content: \"\";width: 100%;border-bottom: 1px solid gray;flex-grow: 1;}#sk-container-id-2 div.sk-label:hover label.sk-toggleable__label {background-color: #d4ebff;}#sk-container-id-2 div.sk-serial::before {content: \"\";position: absolute;border-left: 1px solid gray;box-sizing: border-box;top: 0;bottom: 0;left: 50%;z-index: 0;}#sk-container-id-2 div.sk-serial {display: flex;flex-direction: column;align-items: center;background-color: white;padding-right: 0.2em;padding-left: 0.2em;position: relative;}#sk-container-id-2 div.sk-item {position: relative;z-index: 1;}#sk-container-id-2 div.sk-parallel {display: flex;align-items: stretch;justify-content: center;background-color: white;position: relative;}#sk-container-id-2 div.sk-item::before, #sk-container-id-2 div.sk-parallel-item::before {content: \"\";position: absolute;border-left: 1px solid gray;box-sizing: border-box;top: 0;bottom: 0;left: 50%;z-index: -1;}#sk-container-id-2 div.sk-parallel-item {display: flex;flex-direction: column;z-index: 1;position: relative;background-color: white;}#sk-container-id-2 div.sk-parallel-item:first-child::after {align-self: flex-end;width: 50%;}#sk-container-id-2 div.sk-parallel-item:last-child::after {align-self: flex-start;width: 50%;}#sk-container-id-2 div.sk-parallel-item:only-child::after {width: 0;}#sk-container-id-2 div.sk-dashed-wrapped {border: 1px dashed gray;margin: 0 0.4em 0.5em 0.4em;box-sizing: border-box;padding-bottom: 0.4em;background-color: white;}#sk-container-id-2 div.sk-label label {font-family: monospace;font-weight: bold;display: inline-block;line-height: 1.2em;}#sk-container-id-2 div.sk-label-container {text-align: center;}#sk-container-id-2 div.sk-container {/* jupyter's `normalize.less` sets `[hidden] { display: none; }` but bootstrap.min.css set `[hidden] { display: none !important; }` so we also need the `!important` here to be able to override the default hidden behavior on the sphinx rendered scikit-learn.org. See: https://github.com/scikit-learn/scikit-learn/issues/21755 */display: inline-block !important;position: relative;}#sk-container-id-2 div.sk-text-repr-fallback {display: none;}</style><div id=\"sk-container-id-2\" class=\"sk-top-container\"><div class=\"sk-text-repr-fallback\"><pre>MultinomialNB()</pre><b>In a Jupyter environment, please rerun this cell to show the HTML representation or trust the notebook. <br />On GitHub, the HTML representation is unable to render, please try loading this page with nbviewer.org.</b></div><div class=\"sk-container\" hidden><div class=\"sk-item\"><div class=\"sk-estimator sk-toggleable\"><input class=\"sk-toggleable__control sk-hidden--visually\" id=\"sk-estimator-id-2\" type=\"checkbox\" checked><label for=\"sk-estimator-id-2\" class=\"sk-toggleable__label sk-toggleable__label-arrow\">MultinomialNB</label><div class=\"sk-toggleable__content\"><pre>MultinomialNB()</pre></div></div></div></div></div>"
      ],
      "text/plain": [
       "MultinomialNB()"
      ]
     },
     "execution_count": 47,
     "metadata": {},
     "output_type": "execute_result"
    }
   ],
   "source": [
    "nb = MultinomialNB()\n",
    "nb.fit(X.toarray(),y_train)"
   ]
  },
  {
   "cell_type": "code",
   "execution_count": 48,
   "id": "844c1af2",
   "metadata": {},
   "outputs": [],
   "source": [
    "x2 = the_count.transform(X_test)\n",
    "prednb = nb.predict(x2.toarray())"
   ]
  },
  {
   "cell_type": "code",
   "execution_count": 49,
   "id": "b5bc99c3",
   "metadata": {},
   "outputs": [
    {
     "name": "stdout",
     "output_type": "stream",
     "text": [
      "              precision    recall  f1-score   support\n",
      "\n",
      "           0       0.93      0.99      0.96       807\n",
      "           1       0.99      0.93      0.96       777\n",
      "\n",
      "    accuracy                           0.96      1584\n",
      "   macro avg       0.96      0.96      0.96      1584\n",
      "weighted avg       0.96      0.96      0.96      1584\n",
      "\n"
     ]
    }
   ],
   "source": [
    "print(classification_report(y_test,prednb))"
   ]
  },
  {
   "cell_type": "code",
   "execution_count": 50,
   "id": "01afdce8",
   "metadata": {},
   "outputs": [
    {
     "data": {
      "text/plain": [
       "<AxesSubplot:>"
      ]
     },
     "execution_count": 50,
     "metadata": {},
     "output_type": "execute_result"
    },
    {
     "data": {
      "image/png": "[encoded data removed]",
      "text/plain": [
       "<Figure size 640x480 with 2 Axes>"
      ]
     },
     "metadata": {},
     "output_type": "display_data"
    }
   ],
   "source": [
    "cm = confusion_matrix(y_test,prednb)\n",
    "sns.heatmap(cm, annot=True, fmt=\"d\")"
   ]
  },
  {
   "cell_type": "code",
   "execution_count": null,
   "id": "950abf63",
   "metadata": {},
   "outputs": [],
   "source": [
    "# Kmeans Cluster"
   ]
  },
  {
   "cell_type": "code",
   "execution_count": 52,
   "id": "7d85d3fa",
   "metadata": {},
   "outputs": [],
   "source": [
    "#from documentation https://scikit-learn.org/stable/auto_examples/text/plot_document_clustering.html#sphx-glr-auto-examples-text-plot-document-clustering-py\n",
    "#fits and produces various metrics shown below \n",
    "\n",
    "labels = y\n",
    "unique_labels, category_sizes = np.unique(labels, return_counts=True)\n",
    "true_k = unique_labels.shape[0]\n",
    "\n",
    "evaluations = []\n",
    "evaluations_std = []\n",
    "\n",
    "\n",
    "def fit_and_evaluate(km, X, name=None, n_runs=5):\n",
    "    name = km.__class__.__name__ if name is None else name\n",
    "\n",
    "    train_times = []\n",
    "    scores = defaultdict(list)\n",
    "    for seed in range(n_runs):\n",
    "        km.set_params(random_state=seed)\n",
    "        t0 = time()\n",
    "        km.fit(X)\n",
    "        train_times.append(time() - t0)\n",
    "        scores[\"Homogeneity\"].append(metrics.homogeneity_score(labels, km.labels_))\n",
    "        scores[\"Completeness\"].append(metrics.completeness_score(labels, km.labels_))\n",
    "        scores[\"V-measure\"].append(metrics.v_measure_score(labels, km.labels_))\n",
    "        scores[\"Adjusted Rand-Index\"].append(\n",
    "            metrics.adjusted_rand_score(labels, km.labels_)\n",
    "        )\n",
    "        scores[\"Silhouette Coefficient\"].append(\n",
    "            metrics.silhouette_score(X, km.labels_, sample_size=2000)\n",
    "        )\n",
    "    train_times = np.asarray(train_times)\n",
    "\n",
    "    print(f\"clustering done in {train_times.mean():.2f} ± {train_times.std():.2f} s \")\n",
    "    evaluation = {\n",
    "        \"estimator\": name,\n",
    "        \"train_time\": train_times.mean(),\n",
    "    }\n",
    "    evaluation_std = {\n",
    "        \"estimator\": name,\n",
    "        \"train_time\": train_times.std(),\n",
    "    }\n",
    "    for score_name, score_values in scores.items():\n",
    "        mean_score, std_score = np.mean(score_values), np.std(score_values)\n",
    "        print(f\"{score_name}: {mean_score:.3f} ± {std_score:.3f}\")\n",
    "        evaluation[score_name] = mean_score\n",
    "        evaluation_std[score_name] = std_score\n",
    "    evaluations.append(evaluation)\n",
    "    evaluations_std.append(evaluation_std)"
   ]
  },
  {
   "cell_type": "code",
   "execution_count": 53,
   "id": "09da7da4",
   "metadata": {},
   "outputs": [
    {
     "name": "stdout",
     "output_type": "stream",
     "text": [
      "n_samples: 4798, n_features: 16942\n"
     ]
    }
   ],
   "source": [
    "vectorizer = TfidfVectorizer(\n",
    "    max_df=0.5,\n",
    "    min_df=5,\n",
    "    stop_words=\"english\",\n",
    ")\n",
    "\n",
    "X_tfidf = vectorizer.fit_transform(x)\n",
    "\n",
    "print(f\"n_samples: {X_tfidf.shape[0]}, n_features: {X_tfidf.shape[1]}\")"
   ]
  },
  {
   "cell_type": "code",
   "execution_count": 54,
   "id": "e53277a8",
   "metadata": {},
   "outputs": [],
   "source": [
    "kmeans = KMeans(\n",
    "    n_clusters=2,\n",
    "    max_iter=100,\n",
    "    n_init=5,\n",
    ")"
   ]
  },
  {
   "cell_type": "code",
   "execution_count": 55,
   "id": "a3b01ccf",
   "metadata": {},
   "outputs": [
    {
     "name": "stdout",
     "output_type": "stream",
     "text": [
      "clustering done in 1.04 ± 0.12 s \n",
      "Homogeneity: 0.166 ± 0.000\n",
      "Completeness: 0.217 ± 0.000\n",
      "V-measure: 0.188 ± 0.000\n",
      "Adjusted Rand-Index: 0.140 ± 0.000\n",
      "Silhouette Coefficient: 0.057 ± 0.002\n"
     ]
    }
   ],
   "source": [
    "fit_and_evaluate(kmeans, X_tfidf, name=\"KMeans\\non tf-idf vectors\")"
   ]
  },
  {
   "cell_type": "code",
   "execution_count": 62,
   "id": "a33b1d0b",
   "metadata": {},
   "outputs": [
    {
     "data": {
      "image/png": "[encoded data removed]",
      "text/plain": [
       "<Figure size 1600x600 with 2 Axes>"
      ]
     },
     "metadata": {},
     "output_type": "display_data"
    }
   ],
   "source": [
    "fig, (ax0, ax1) = plt.subplots(ncols=2, figsize=(16, 6), sharey=True)\n",
    "\n",
    "df = pd.DataFrame(evaluations[::-1]).set_index(\"estimator\")\n",
    "df_std = pd.DataFrame(evaluations_std[::-1]).set_index(\"estimator\")\n",
    "\n",
    "df.drop(\n",
    "    [\"train_time\"],\n",
    "    axis=\"columns\",\n",
    ").plot.barh(ax=ax0, xerr=df_std)\n",
    "ax0.set_xlabel(\"Clustering scores\")\n",
    "ax0.set_ylabel(\"\")\n",
    "\n",
    "df[\"train_time\"].plot.barh(ax=ax1, xerr=df_std[\"train_time\"])\n",
    "ax1.set_xlabel(\"Clustering time (s)\")\n",
    "plt.tight_layout()\n"
   ]
  }
 ],
 "metadata": {
  "kernelspec": {
   "display_name": "Python 3 (ipykernel)",
   "language": "python",
   "name": "python3"
  },
  "language_info": {
   "codemirror_mode": {
    "name": "ipython",
    "version": 3
   },
   "file_extension": ".py",
   "mimetype": "text/x-python",
   "name": "python",
   "nbconvert_exporter": "python",
   "pygments_lexer": "ipython3",
   "version": "3.9.7"
  }
 },
 "nbformat": 4,
 "nbformat_minor": 5
}
