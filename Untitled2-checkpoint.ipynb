{
 "cells": [
  {
   "cell_type": "code",
   "execution_count": 1,
   "id": "1d0c7e59",
   "metadata": {},
   "outputs": [],
   "source": [
    "import os\n",
    "import pandas as pd"
   ]
  },
  {
   "cell_type": "code",
   "execution_count": 2,
   "id": "7d182248",
   "metadata": {},
   "outputs": [],
   "source": [
    "tmp = os.listdir(\"SpamAssassinMessages/easy_ham\")"
   ]
  },
  {
   "cell_type": "code",
   "execution_count": null,
   "id": "617af3e1",
   "metadata": {},
   "outputs": [],
   "source": [
    "x = []\n",
    "\n",
    "for i in tmp/5:\n",
    "    with  open(os.path.join(\"SpamAssassinMessages/easy_ham\", i), 'r', encoding = \"cp437\") as f:\n",
    "        x.append(f.read())\n",
    "        print(x)"
   ]
  },
  {
   "cell_type": "code",
   "execution_count": null,
   "id": "f1becc87",
   "metadata": {},
   "outputs": [],
   "source": [
    "y = [0]*len(x)"
   ]
  },
  {
   "cell_type": "code",
   "execution_count": null,
   "id": "b6ae11f6",
   "metadata": {},
   "outputs": [],
   "source": [
    "df1 = pd.DataFrame(list(zip(x, y)), columns =['text', 'target']) \n",
    "df1.head()"
   ]
  },
  {
   "cell_type": "code",
   "execution_count": null,
   "id": "c1ae8041",
   "metadata": {},
   "outputs": [],
   "source": []
  }
 ],
 "metadata": {
  "kernelspec": {
   "display_name": "Python 3 (ipykernel)",
   "language": "python",
   "name": "python3"
  },
  "language_info": {
   "codemirror_mode": {
    "name": "ipython",
    "version": 3
   },
   "file_extension": ".py",
   "mimetype": "text/x-python",
   "name": "python",
   "nbconvert_exporter": "python",
   "pygments_lexer": "ipython3",
   "version": "3.9.7"
  }
 },
 "nbformat": 4,
 "nbformat_minor": 5
}
