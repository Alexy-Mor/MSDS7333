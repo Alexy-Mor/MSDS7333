{
  "cells": [
    {
      "cell_type": "code",
      "execution_count": null,
      "metadata": {
        "id": "a26de794"
      },
      "outputs": [],
      "source": [
        "#import packages\n",
        "import warnings\n",
        "import pandas as pd\n",
        "import numpy as np\n",
        "import seaborn as sns\n",
        "import matplotlib.pyplot as plt\n",
        "from sklearn.preprocessing import RobustScaler, StandardScaler\n",
        "from sklearn.model_selection import train_test_split, GridSearchCV,cross_val_predict\n",
        "from sklearn.svm import SVC\n",
        "from sklearn.linear_model import SGDClassifier\n",
        "from sklearn.feature_selection import SelectPercentile,f_regression\n",
        "from sklearn.metrics import confusion_matrix,classification_report\n",
        "from sklearn import metrics\n",
        "from sklearn.pipeline import make_pipeline\n",
        "from sklearn.utils import resample\n",
        "from sklearn.metrics import accuracy_score, precision_score, recall_score\n",
        "#from sklearn.inspection import DecisionBoundaryDisplay"
      ],
      "id": "a26de794"
    },
    {
      "cell_type": "code",
      "execution_count": null,
      "metadata": {
        "id": "ae812cee"
      },
      "outputs": [],
      "source": [
        "#remove warnings after verifying code\n",
        "warnings.filterwarnings(\"ignore\")"
      ],
      "id": "ae812cee"
    },
    {
      "cell_type": "code",
      "execution_count": null,
      "metadata": {
        "id": "7393db14"
      },
      "outputs": [],
      "source": [
        "data = pd.read_csv(r'log2.csv',low_memory = False)"
      ],
      "id": "7393db14"
    },
    {
      "cell_type": "code",
      "execution_count": null,
      "metadata": {
        "colab": {
          "base_uri": "https://localhost:8080/"
        },
        "id": "c880fbf2",
        "outputId": "19e4e70d-84a5-40ce-a695-a1ede63d0701"
      },
      "outputs": [
        {
          "output_type": "stream",
          "name": "stdout",
          "text": [
            "<class 'pandas.core.frame.DataFrame'>\n",
            "RangeIndex: 65532 entries, 0 to 65531\n",
            "Data columns (total 12 columns):\n",
            " #   Column                Non-Null Count  Dtype \n",
            "---  ------                --------------  ----- \n",
            " 0   Source Port           65532 non-null  int64 \n",
            " 1   Destination Port      65532 non-null  int64 \n",
            " 2   NAT Source Port       65532 non-null  int64 \n",
            " 3   NAT Destination Port  65532 non-null  int64 \n",
            " 4   Action                65532 non-null  object\n",
            " 5   Bytes                 65532 non-null  int64 \n",
            " 6   Bytes Sent            65532 non-null  int64 \n",
            " 7   Bytes Received        65532 non-null  int64 \n",
            " 8   Packets               65532 non-null  int64 \n",
            " 9   Elapsed Time (sec)    65532 non-null  int64 \n",
            " 10  pkts_sent             65532 non-null  int64 \n",
            " 11  pkts_received         65532 non-null  int64 \n",
            "dtypes: int64(11), object(1)\n",
            "memory usage: 6.0+ MB\n"
          ]
        }
      ],
      "source": [
        "data.info(verbose=True)"
      ],
      "id": "c880fbf2"
    },
    {
      "cell_type": "code",
      "execution_count": null,
      "metadata": {
        "colab": {
          "base_uri": "https://localhost:8080/"
        },
        "id": "7a987df5",
        "outputId": "1648f59d-3fa6-4f14-bd2f-ffc25e9eccb9"
      },
      "outputs": [
        {
          "output_type": "execute_result",
          "data": {
            "text/plain": [
              "   Source Port  Destination Port  NAT Source Port  NAT Destination Port  \\\n",
              "0        57222                53            54587                    53   \n",
              "1        56258              3389            56258                  3389   \n",
              "2         6881             50321            43265                 50321   \n",
              "3        50553              3389            50553                  3389   \n",
              "4        50002               443            45848                   443   \n",
              "\n",
              "  Action  Bytes  Bytes Sent  Bytes Received  Packets  Elapsed Time (sec)  \\\n",
              "0  allow    177          94              83        2                  30   \n",
              "1  allow   4768        1600            3168       19                  17   \n",
              "2  allow    238         118             120        2                1199   \n",
              "3  allow   3327        1438            1889       15                  17   \n",
              "4  allow  25358        6778           18580       31                  16   \n",
              "\n",
              "   pkts_sent  pkts_received  \n",
              "0          1              1  \n",
              "1         10              9  \n",
              "2          1              1  \n",
              "3          8              7  \n",
              "4         13             18  "
            ],
            "text/html": [
              "\n",
              "  <div id=\"df-383295b8-43e9-434d-9c07-53b3ddb8ae65\">\n",
              "    <div class=\"colab-df-container\">\n",
              "      <div>\n",
              "<style scoped>\n",
              "    .dataframe tbody tr th:only-of-type {\n",
              "        vertical-align: middle;\n",
              "    }\n",
              "\n",
              "    .dataframe tbody tr th {\n",
              "        vertical-align: top;\n",
              "    }\n",
              "\n",
              "    .dataframe thead th {\n",
              "        text-align: right;\n",
              "    }\n",
              "</style>\n",
              "<table border=\"1\" class=\"dataframe\">\n",
              "  <thead>\n",
              "    <tr style=\"text-align: right;\">\n",
              "      <th></th>\n",
              "      <th>Source Port</th>\n",
              "      <th>Destination Port</th>\n",
              "      <th>NAT Source Port</th>\n",
              "      <th>NAT Destination Port</th>\n",
              "      <th>Action</th>\n",
              "      <th>Bytes</th>\n",
              "      <th>Bytes Sent</th>\n",
              "      <th>Bytes Received</th>\n",
              "      <th>Packets</th>\n",
              "      <th>Elapsed Time (sec)</th>\n",
              "      <th>pkts_sent</th>\n",
              "      <th>pkts_received</th>\n",
              "    </tr>\n",
              "  </thead>\n",
              "  <tbody>\n",
              "    <tr>\n",
              "      <th>0</th>\n",
              "      <td>57222</td>\n",
              "      <td>53</td>\n",
              "      <td>54587</td>\n",
              "      <td>53</td>\n",
              "      <td>allow</td>\n",
              "      <td>177</td>\n",
              "      <td>94</td>\n",
              "      <td>83</td>\n",
              "      <td>2</td>\n",
              "      <td>30</td>\n",
              "      <td>1</td>\n",
              "      <td>1</td>\n",
              "    </tr>\n",
              "    <tr>\n",
              "      <th>1</th>\n",
              "      <td>56258</td>\n",
              "      <td>3389</td>\n",
              "      <td>56258</td>\n",
              "      <td>3389</td>\n",
              "      <td>allow</td>\n",
              "      <td>4768</td>\n",
              "      <td>1600</td>\n",
              "      <td>3168</td>\n",
              "      <td>19</td>\n",
              "      <td>17</td>\n",
              "      <td>10</td>\n",
              "      <td>9</td>\n",
              "    </tr>\n",
              "    <tr>\n",
              "      <th>2</th>\n",
              "      <td>6881</td>\n",
              "      <td>50321</td>\n",
              "      <td>43265</td>\n",
              "      <td>50321</td>\n",
              "      <td>allow</td>\n",
              "      <td>238</td>\n",
              "      <td>118</td>\n",
              "      <td>120</td>\n",
              "      <td>2</td>\n",
              "      <td>1199</td>\n",
              "      <td>1</td>\n",
              "      <td>1</td>\n",
              "    </tr>\n",
              "    <tr>\n",
              "      <th>3</th>\n",
              "      <td>50553</td>\n",
              "      <td>3389</td>\n",
              "      <td>50553</td>\n",
              "      <td>3389</td>\n",
              "      <td>allow</td>\n",
              "      <td>3327</td>\n",
              "      <td>1438</td>\n",
              "      <td>1889</td>\n",
              "      <td>15</td>\n",
              "      <td>17</td>\n",
              "      <td>8</td>\n",
              "      <td>7</td>\n",
              "    </tr>\n",
              "    <tr>\n",
              "      <th>4</th>\n",
              "      <td>50002</td>\n",
              "      <td>443</td>\n",
              "      <td>45848</td>\n",
              "      <td>443</td>\n",
              "      <td>allow</td>\n",
              "      <td>25358</td>\n",
              "      <td>6778</td>\n",
              "      <td>18580</td>\n",
              "      <td>31</td>\n",
              "      <td>16</td>\n",
              "      <td>13</td>\n",
              "      <td>18</td>\n",
              "    </tr>\n",
              "  </tbody>\n",
              "</table>\n",
              "</div>\n",
              "      <button class=\"colab-df-convert\" onclick=\"convertToInteractive('df-383295b8-43e9-434d-9c07-53b3ddb8ae65')\"\n",
              "              title=\"Convert this dataframe to an interactive table.\"\n",
              "              style=\"display:none;\">\n",
              "        \n",
              "  <svg xmlns=\"http://www.w3.org/2000/svg\" height=\"24px\"viewBox=\"0 0 24 24\"\n",
              "       width=\"24px\">\n",
              "    <path d=\"M0 0h24v24H0V0z\" fill=\"none\"/>\n",
              "    <path d=\"M18.56 5.44l.94 2.06.94-2.06 2.06-.94-2.06-.94-.94-2.06-.94 2.06-2.06.94zm-11 1L8.5 8.5l.94-2.06 2.06-.94-2.06-.94L8.5 2.5l-.94 2.06-2.06.94zm10 10l.94 2.06.94-2.06 2.06-.94-2.06-.94-.94-2.06-.94 2.06-2.06.94z\"/><path d=\"M17.41 7.96l-1.37-1.37c-.4-.4-.92-.59-1.43-.59-.52 0-1.04.2-1.43.59L10.3 9.45l-7.72 7.72c-.78.78-.78 2.05 0 2.83L4 21.41c.39.39.9.59 1.41.59.51 0 1.02-.2 1.41-.59l7.78-7.78 2.81-2.81c.8-.78.8-2.07 0-2.86zM5.41 20L4 18.59l7.72-7.72 1.47 1.35L5.41 20z\"/>\n",
              "  </svg>\n",
              "      </button>\n",
              "      \n",
              "  <style>\n",
              "    .colab-df-container {\n",
              "      display:flex;\n",
              "      flex-wrap:wrap;\n",
              "      gap: 12px;\n",
              "    }\n",
              "\n",
              "    .colab-df-convert {\n",
              "      background-color: #E8F0FE;\n",
              "      border: none;\n",
              "      border-radius: 50%;\n",
              "      cursor: pointer;\n",
              "      display: none;\n",
              "      fill: #1967D2;\n",
              "      height: 32px;\n",
              "      padding: 0 0 0 0;\n",
              "      width: 32px;\n",
              "    }\n",
              "\n",
              "    .colab-df-convert:hover {\n",
              "      background-color: #E2EBFA;\n",
              "      box-shadow: 0px 1px 2px rgba(60, 64, 67, 0.3), 0px 1px 3px 1px rgba(60, 64, 67, 0.15);\n",
              "      fill: #174EA6;\n",
              "    }\n",
              "\n",
              "    [theme=dark] .colab-df-convert {\n",
              "      background-color: #3B4455;\n",
              "      fill: #D2E3FC;\n",
              "    }\n",
              "\n",
              "    [theme=dark] .colab-df-convert:hover {\n",
              "      background-color: #434B5C;\n",
              "      box-shadow: 0px 1px 3px 1px rgba(0, 0, 0, 0.15);\n",
              "      filter: drop-shadow(0px 1px 2px rgba(0, 0, 0, 0.3));\n",
              "      fill: #FFFFFF;\n",
              "    }\n",
              "  </style>\n",
              "\n",
              "      <script>\n",
              "        const buttonEl =\n",
              "          document.querySelector('#df-383295b8-43e9-434d-9c07-53b3ddb8ae65 button.colab-df-convert');\n",
              "        buttonEl.style.display =\n",
              "          google.colab.kernel.accessAllowed ? 'block' : 'none';\n",
              "\n",
              "        async function convertToInteractive(key) {\n",
              "          const element = document.querySelector('#df-383295b8-43e9-434d-9c07-53b3ddb8ae65');\n",
              "          const dataTable =\n",
              "            await google.colab.kernel.invokeFunction('convertToInteractive',\n",
              "                                                     [key], {});\n",
              "          if (!dataTable) return;\n",
              "\n",
              "          const docLinkHtml = 'Like what you see? Visit the ' +\n",
              "            '<a target=\"_blank\" href=https://colab.research.google.com/notebooks/data_table.ipynb>data table notebook</a>'\n",
              "            + ' to learn more about interactive tables.';\n",
              "          element.innerHTML = '';\n",
              "          dataTable['output_type'] = 'display_data';\n",
              "          await google.colab.output.renderOutput(dataTable, element);\n",
              "          const docLink = document.createElement('div');\n",
              "          docLink.innerHTML = docLinkHtml;\n",
              "          element.appendChild(docLink);\n",
              "        }\n",
              "      </script>\n",
              "    </div>\n",
              "  </div>\n",
              "  "
            ]
          },
          "metadata": {},
          "execution_count": 25
        }
      ],
      "source": [
        "data.head()"
      ],
      "id": "7a987df5"
    },
    {
      "cell_type": "code",
      "execution_count": null,
      "metadata": {
        "id": "8086c42a"
      },
      "outputs": [],
      "source": [
        "data = data.rename(columns={\"Source Port\": \"source_port\", \"Destination Port\": \"destination_port\", \"NAT Source Port\": \"nat_source_port\", \"NAT Destination Port\": \"nat_destination_port\", \"Bytes Sent\": \"bytes_sent\", \"Bytes Received\": \"bytes_received\", \"Elapsed Time (sec)\": \"elapsed_time\"})"
      ],
      "id": "8086c42a"
    },
    {
      "cell_type": "code",
      "execution_count": null,
      "metadata": {
        "id": "c768f390"
      },
      "outputs": [],
      "source": [
        "#basically addresses can't be int64\n",
        "data[\"source_port\"] = data[\"source_port\"].astype(str)\n",
        "data[\"destination_port\"] = data[\"destination_port\"].astype(str)\n",
        "data[\"nat_source_port\"] = data[\"nat_source_port\"].astype(str)\n",
        "data[\"nat_destination_port\"] = data[\"nat_destination_port\"].astype(str)"
      ],
      "id": "c768f390"
    },
    {
      "cell_type": "code",
      "execution_count": null,
      "metadata": {
        "colab": {
          "base_uri": "https://localhost:8080/"
        },
        "id": "6156be84",
        "outputId": "0298a776-b8d5-4956-b7b5-235088d3e2d9"
      },
      "outputs": [
        {
          "output_type": "stream",
          "name": "stdout",
          "text": [
            "<class 'pandas.core.frame.DataFrame'>\n",
            "RangeIndex: 65532 entries, 0 to 65531\n",
            "Data columns (total 12 columns):\n",
            " #   Column                Non-Null Count  Dtype \n",
            "---  ------                --------------  ----- \n",
            " 0   source_port           65532 non-null  object\n",
            " 1   destination_port      65532 non-null  object\n",
            " 2   nat_source_port       65532 non-null  object\n",
            " 3   nat_destination_port  65532 non-null  object\n",
            " 4   Action                65532 non-null  object\n",
            " 5   Bytes                 65532 non-null  int64 \n",
            " 6   bytes_sent            65532 non-null  int64 \n",
            " 7   bytes_received        65532 non-null  int64 \n",
            " 8   Packets               65532 non-null  int64 \n",
            " 9   elapsed_time          65532 non-null  int64 \n",
            " 10  pkts_sent             65532 non-null  int64 \n",
            " 11  pkts_received         65532 non-null  int64 \n",
            "dtypes: int64(7), object(5)\n",
            "memory usage: 6.0+ MB\n"
          ]
        }
      ],
      "source": [
        "data.info(verbose=True)"
      ],
      "id": "6156be84"
    },
    {
      "cell_type": "code",
      "execution_count": null,
      "metadata": {
        "colab": {
          "base_uri": "https://localhost:8080/",
          "height": 300
        },
        "id": "66678f1e",
        "outputId": "9e2c73b8-200a-46b1-cc27-51acd887e5b0"
      },
      "outputs": [
        {
          "output_type": "execute_result",
          "data": {
            "text/plain": [
              "              Bytes    bytes_sent  bytes_received       Packets  elapsed_time  \\\n",
              "count  6.553200e+04  6.553200e+04    6.553200e+04  6.553200e+04  65532.000000   \n",
              "mean   9.712395e+04  2.238580e+04    7.473815e+04  1.028660e+02     65.833577   \n",
              "std    5.618439e+06  3.828139e+06    2.463208e+06  5.133002e+03    302.461762   \n",
              "min    6.000000e+01  6.000000e+01    0.000000e+00  1.000000e+00      0.000000   \n",
              "25%    6.600000e+01  6.600000e+01    0.000000e+00  1.000000e+00      0.000000   \n",
              "50%    1.680000e+02  9.000000e+01    7.900000e+01  2.000000e+00     15.000000   \n",
              "75%    7.522500e+02  2.100000e+02    4.490000e+02  6.000000e+00     30.000000   \n",
              "max    1.269359e+09  9.484772e+08    3.208818e+08  1.036116e+06  10824.000000   \n",
              "\n",
              "           pkts_sent  pkts_received  \n",
              "count   65532.000000   65532.000000  \n",
              "mean       41.399530      61.466505  \n",
              "std      3218.871288    2223.332271  \n",
              "min         1.000000       0.000000  \n",
              "25%         1.000000       0.000000  \n",
              "50%         1.000000       1.000000  \n",
              "75%         3.000000       2.000000  \n",
              "max    747520.000000  327208.000000  "
            ],
            "text/html": [
              "\n",
              "  <div id=\"df-c370b3d1-f10b-42c7-92dc-25e7ff16f737\">\n",
              "    <div class=\"colab-df-container\">\n",
              "      <div>\n",
              "<style scoped>\n",
              "    .dataframe tbody tr th:only-of-type {\n",
              "        vertical-align: middle;\n",
              "    }\n",
              "\n",
              "    .dataframe tbody tr th {\n",
              "        vertical-align: top;\n",
              "    }\n",
              "\n",
              "    .dataframe thead th {\n",
              "        text-align: right;\n",
              "    }\n",
              "</style>\n",
              "<table border=\"1\" class=\"dataframe\">\n",
              "  <thead>\n",
              "    <tr style=\"text-align: right;\">\n",
              "      <th></th>\n",
              "      <th>Bytes</th>\n",
              "      <th>bytes_sent</th>\n",
              "      <th>bytes_received</th>\n",
              "      <th>Packets</th>\n",
              "      <th>elapsed_time</th>\n",
              "      <th>pkts_sent</th>\n",
              "      <th>pkts_received</th>\n",
              "    </tr>\n",
              "  </thead>\n",
              "  <tbody>\n",
              "    <tr>\n",
              "      <th>count</th>\n",
              "      <td>6.553200e+04</td>\n",
              "      <td>6.553200e+04</td>\n",
              "      <td>6.553200e+04</td>\n",
              "      <td>6.553200e+04</td>\n",
              "      <td>65532.000000</td>\n",
              "      <td>65532.000000</td>\n",
              "      <td>65532.000000</td>\n",
              "    </tr>\n",
              "    <tr>\n",
              "      <th>mean</th>\n",
              "      <td>9.712395e+04</td>\n",
              "      <td>2.238580e+04</td>\n",
              "      <td>7.473815e+04</td>\n",
              "      <td>1.028660e+02</td>\n",
              "      <td>65.833577</td>\n",
              "      <td>41.399530</td>\n",
              "      <td>61.466505</td>\n",
              "    </tr>\n",
              "    <tr>\n",
              "      <th>std</th>\n",
              "      <td>5.618439e+06</td>\n",
              "      <td>3.828139e+06</td>\n",
              "      <td>2.463208e+06</td>\n",
              "      <td>5.133002e+03</td>\n",
              "      <td>302.461762</td>\n",
              "      <td>3218.871288</td>\n",
              "      <td>2223.332271</td>\n",
              "    </tr>\n",
              "    <tr>\n",
              "      <th>min</th>\n",
              "      <td>6.000000e+01</td>\n",
              "      <td>6.000000e+01</td>\n",
              "      <td>0.000000e+00</td>\n",
              "      <td>1.000000e+00</td>\n",
              "      <td>0.000000</td>\n",
              "      <td>1.000000</td>\n",
              "      <td>0.000000</td>\n",
              "    </tr>\n",
              "    <tr>\n",
              "      <th>25%</th>\n",
              "      <td>6.600000e+01</td>\n",
              "      <td>6.600000e+01</td>\n",
              "      <td>0.000000e+00</td>\n",
              "      <td>1.000000e+00</td>\n",
              "      <td>0.000000</td>\n",
              "      <td>1.000000</td>\n",
              "      <td>0.000000</td>\n",
              "    </tr>\n",
              "    <tr>\n",
              "      <th>50%</th>\n",
              "      <td>1.680000e+02</td>\n",
              "      <td>9.000000e+01</td>\n",
              "      <td>7.900000e+01</td>\n",
              "      <td>2.000000e+00</td>\n",
              "      <td>15.000000</td>\n",
              "      <td>1.000000</td>\n",
              "      <td>1.000000</td>\n",
              "    </tr>\n",
              "    <tr>\n",
              "      <th>75%</th>\n",
              "      <td>7.522500e+02</td>\n",
              "      <td>2.100000e+02</td>\n",
              "      <td>4.490000e+02</td>\n",
              "      <td>6.000000e+00</td>\n",
              "      <td>30.000000</td>\n",
              "      <td>3.000000</td>\n",
              "      <td>2.000000</td>\n",
              "    </tr>\n",
              "    <tr>\n",
              "      <th>max</th>\n",
              "      <td>1.269359e+09</td>\n",
              "      <td>9.484772e+08</td>\n",
              "      <td>3.208818e+08</td>\n",
              "      <td>1.036116e+06</td>\n",
              "      <td>10824.000000</td>\n",
              "      <td>747520.000000</td>\n",
              "      <td>327208.000000</td>\n",
              "    </tr>\n",
              "  </tbody>\n",
              "</table>\n",
              "</div>\n",
              "      <button class=\"colab-df-convert\" onclick=\"convertToInteractive('df-c370b3d1-f10b-42c7-92dc-25e7ff16f737')\"\n",
              "              title=\"Convert this dataframe to an interactive table.\"\n",
              "              style=\"display:none;\">\n",
              "        \n",
              "  <svg xmlns=\"http://www.w3.org/2000/svg\" height=\"24px\"viewBox=\"0 0 24 24\"\n",
              "       width=\"24px\">\n",
              "    <path d=\"M0 0h24v24H0V0z\" fill=\"none\"/>\n",
              "    <path d=\"M18.56 5.44l.94 2.06.94-2.06 2.06-.94-2.06-.94-.94-2.06-.94 2.06-2.06.94zm-11 1L8.5 8.5l.94-2.06 2.06-.94-2.06-.94L8.5 2.5l-.94 2.06-2.06.94zm10 10l.94 2.06.94-2.06 2.06-.94-2.06-.94-.94-2.06-.94 2.06-2.06.94z\"/><path d=\"M17.41 7.96l-1.37-1.37c-.4-.4-.92-.59-1.43-.59-.52 0-1.04.2-1.43.59L10.3 9.45l-7.72 7.72c-.78.78-.78 2.05 0 2.83L4 21.41c.39.39.9.59 1.41.59.51 0 1.02-.2 1.41-.59l7.78-7.78 2.81-2.81c.8-.78.8-2.07 0-2.86zM5.41 20L4 18.59l7.72-7.72 1.47 1.35L5.41 20z\"/>\n",
              "  </svg>\n",
              "      </button>\n",
              "      \n",
              "  <style>\n",
              "    .colab-df-container {\n",
              "      display:flex;\n",
              "      flex-wrap:wrap;\n",
              "      gap: 12px;\n",
              "    }\n",
              "\n",
              "    .colab-df-convert {\n",
              "      background-color: #E8F0FE;\n",
              "      border: none;\n",
              "      border-radius: 50%;\n",
              "      cursor: pointer;\n",
              "      display: none;\n",
              "      fill: #1967D2;\n",
              "      height: 32px;\n",
              "      padding: 0 0 0 0;\n",
              "      width: 32px;\n",
              "    }\n",
              "\n",
              "    .colab-df-convert:hover {\n",
              "      background-color: #E2EBFA;\n",
              "      box-shadow: 0px 1px 2px rgba(60, 64, 67, 0.3), 0px 1px 3px 1px rgba(60, 64, 67, 0.15);\n",
              "      fill: #174EA6;\n",
              "    }\n",
              "\n",
              "    [theme=dark] .colab-df-convert {\n",
              "      background-color: #3B4455;\n",
              "      fill: #D2E3FC;\n",
              "    }\n",
              "\n",
              "    [theme=dark] .colab-df-convert:hover {\n",
              "      background-color: #434B5C;\n",
              "      box-shadow: 0px 1px 3px 1px rgba(0, 0, 0, 0.15);\n",
              "      filter: drop-shadow(0px 1px 2px rgba(0, 0, 0, 0.3));\n",
              "      fill: #FFFFFF;\n",
              "    }\n",
              "  </style>\n",
              "\n",
              "      <script>\n",
              "        const buttonEl =\n",
              "          document.querySelector('#df-c370b3d1-f10b-42c7-92dc-25e7ff16f737 button.colab-df-convert');\n",
              "        buttonEl.style.display =\n",
              "          google.colab.kernel.accessAllowed ? 'block' : 'none';\n",
              "\n",
              "        async function convertToInteractive(key) {\n",
              "          const element = document.querySelector('#df-c370b3d1-f10b-42c7-92dc-25e7ff16f737');\n",
              "          const dataTable =\n",
              "            await google.colab.kernel.invokeFunction('convertToInteractive',\n",
              "                                                     [key], {});\n",
              "          if (!dataTable) return;\n",
              "\n",
              "          const docLinkHtml = 'Like what you see? Visit the ' +\n",
              "            '<a target=\"_blank\" href=https://colab.research.google.com/notebooks/data_table.ipynb>data table notebook</a>'\n",
              "            + ' to learn more about interactive tables.';\n",
              "          element.innerHTML = '';\n",
              "          dataTable['output_type'] = 'display_data';\n",
              "          await google.colab.output.renderOutput(dataTable, element);\n",
              "          const docLink = document.createElement('div');\n",
              "          docLink.innerHTML = docLinkHtml;\n",
              "          element.appendChild(docLink);\n",
              "        }\n",
              "      </script>\n",
              "    </div>\n",
              "  </div>\n",
              "  "
            ]
          },
          "metadata": {},
          "execution_count": 29
        }
      ],
      "source": [
        "data.describe()"
      ],
      "id": "66678f1e"
    },
    {
      "cell_type": "code",
      "source": [
        "#check for null values\n",
        "data.isnull().sum()"
      ],
      "metadata": {
        "colab": {
          "base_uri": "https://localhost:8080/"
        },
        "id": "MoO-zTop4cgp",
        "outputId": "05a05a82-5044-4ef7-a5d5-29f71764e2a2"
      },
      "id": "MoO-zTop4cgp",
      "execution_count": null,
      "outputs": [
        {
          "output_type": "execute_result",
          "data": {
            "text/plain": [
              "source_port             0\n",
              "destination_port        0\n",
              "nat_source_port         0\n",
              "nat_destination_port    0\n",
              "Action                  0\n",
              "Bytes                   0\n",
              "bytes_sent              0\n",
              "bytes_received          0\n",
              "Packets                 0\n",
              "elapsed_time            0\n",
              "pkts_sent               0\n",
              "pkts_received           0\n",
              "dtype: int64"
            ]
          },
          "metadata": {},
          "execution_count": 30
        }
      ]
    },
    {
      "cell_type": "code",
      "source": [
        "#view unique data in column 'class'\n",
        "data['Action'].unique()"
      ],
      "metadata": {
        "colab": {
          "base_uri": "https://localhost:8080/"
        },
        "id": "k9nFkSYI4qGE",
        "outputId": "6e7b7bf2-2f12-422a-8928-12d3ac63db95"
      },
      "id": "k9nFkSYI4qGE",
      "execution_count": null,
      "outputs": [
        {
          "output_type": "execute_result",
          "data": {
            "text/plain": [
              "array(['allow', 'drop', 'deny', 'reset-both'], dtype=object)"
            ]
          },
          "metadata": {},
          "execution_count": 31
        }
      ]
    },
    {
      "cell_type": "code",
      "execution_count": null,
      "metadata": {
        "colab": {
          "base_uri": "https://localhost:8080/",
          "height": 335
        },
        "id": "291e31ff",
        "outputId": "946d6e26-1662-4e2b-9b32-05b8a3cfe572"
      },
      "outputs": [
        {
          "output_type": "stream",
          "name": "stdout",
          "text": [
            "allow         37640\n",
            "deny          14987\n",
            "drop          12851\n",
            "reset-both       54\n",
            "Name: Action, dtype: int64\n"
          ]
        },
        {
          "output_type": "display_data",
          "data": {
            "text/plain": [
              "<Figure size 432x288 with 1 Axes>"
            ],
            "image/png": "[encoded data removed]"
          },
          "metadata": {}
        }
      ],
      "source": [
        "#Visualize the data\n",
        "print(data[\"Action\"].value_counts())\n",
        "\n",
        "data.groupby('Action').size().plot(kind='pie',\n",
        "                                       y = \"Action\",\n",
        "                                       label = \"Percentage of Responce\",\n",
        "                                       autopct='%1.1f%%');"
      ],
      "id": "291e31ff"
    },
    {
      "cell_type": "code",
      "source": [
        "data = data[data.Action != 'reset-both']"
      ],
      "metadata": {
        "id": "dieqfW5VYLWG"
      },
      "id": "dieqfW5VYLWG",
      "execution_count": null,
      "outputs": []
    },
    {
      "cell_type": "code",
      "execution_count": null,
      "metadata": {
        "colab": {
          "base_uri": "https://localhost:8080/",
          "height": 317
        },
        "outputId": "981835f1-ff71-4d78-bf28-9c0f2e5a02b7",
        "id": "4bgb5-uLY4fK"
      },
      "outputs": [
        {
          "output_type": "stream",
          "name": "stdout",
          "text": [
            "allow    37640\n",
            "deny     14987\n",
            "drop     12851\n",
            "Name: Action, dtype: int64\n"
          ]
        },
        {
          "output_type": "display_data",
          "data": {
            "text/plain": [
              "<Figure size 432x288 with 1 Axes>"
            ],
            "image/png": "[encoded data removed]"
          },
          "metadata": {}
        }
      ],
      "source": [
        "#Visualize the data\n",
        "print(data[\"Action\"].value_counts())\n",
        "\n",
        "data.groupby('Action').size().plot(kind='pie',\n",
        "                                       y = \"Action\",\n",
        "                                       label = \"Percentage of Responce\",\n",
        "                                       autopct='%1.1f%%');"
      ],
      "id": "4bgb5-uLY4fK"
    },
    {
      "cell_type": "code",
      "source": [
        "#Delete Packets, Bytes, Bytes_recieved\n",
        "corr_matrix = data.corr()\n",
        "sns.heatmap(corr_matrix, annot=True)\n",
        "plt.show()"
      ],
      "metadata": {
        "colab": {
          "base_uri": "https://localhost:8080/",
          "height": 335
        },
        "id": "p2RtmIRjRtQ6",
        "outputId": "b53d2a25-7fd0-4a67-9cb6-356a6be8576a"
      },
      "id": "p2RtmIRjRtQ6",
      "execution_count": null,
      "outputs": [
        {
          "output_type": "display_data",
          "data": {
            "text/plain": [
              "<Figure size 432x288 with 2 Axes>"
            ],
            "image/png": "[encoded data removed]"
          },
          "metadata": {
            "needs_background": "light"
          }
        }
      ]
    },
    {
      "cell_type": "code",
      "source": [
        "data = data.drop(data.columns[[5, 8, 10, 11]], axis=1)"
      ],
      "metadata": {
        "id": "_dwGqDmXTV3I"
      },
      "id": "_dwGqDmXTV3I",
      "execution_count": null,
      "outputs": []
    },
    {
      "cell_type": "code",
      "execution_count": null,
      "metadata": {
        "id": "d6e8af99"
      },
      "outputs": [],
      "source": [
        "x = data.loc[:,data.columns !='Action'] # Features\n",
        "y = data['Action']  # Labels"
      ],
      "id": "d6e8af99"
    },
    {
      "cell_type": "code",
      "execution_count": null,
      "metadata": {
        "id": "09d783fc"
      },
      "outputs": [],
      "source": [
        "X_train, X_test, y_train, y_test = train_test_split(x, y, test_size=0.3,random_state=444)"
      ],
      "id": "09d783fc"
    },
    {
      "cell_type": "code",
      "execution_count": null,
      "metadata": {
        "id": "qgZaNNrghFde"
      },
      "outputs": [],
      "source": [
        "#target_names = ['allow', 'deny', 'drop', 'reset-both']\n",
        "target_names = ['allow', 'deny', 'drop']"
      ],
      "id": "qgZaNNrghFde"
    },
    {
      "cell_type": "code",
      "execution_count": null,
      "metadata": {
        "colab": {
          "base_uri": "https://localhost:8080/"
        },
        "outputId": "62204a8a-35d0-4e5b-9656-687aa336fb74",
        "id": "zBtQ7U7GR2R5"
      },
      "outputs": [
        {
          "output_type": "execute_result",
          "data": {
            "text/plain": [
              "Pipeline(steps=[('standardscaler', StandardScaler()), ('svc', SVC())])"
            ]
          },
          "metadata": {},
          "execution_count": 40
        }
      ],
      "source": [
        "svcm0 = make_pipeline(StandardScaler(), SVC())\n",
        "svcm0.fit(X_train, y_train)"
      ],
      "id": "zBtQ7U7GR2R5"
    },
    {
      "cell_type": "code",
      "execution_count": null,
      "metadata": {
        "id": "B0pIw0BzR-xI"
      },
      "outputs": [],
      "source": [
        "Pred0 = svcm0.predict(X_test)"
      ],
      "id": "B0pIw0BzR-xI"
    },
    {
      "cell_type": "code",
      "execution_count": null,
      "metadata": {
        "colab": {
          "base_uri": "https://localhost:8080/"
        },
        "outputId": "b5fb28b9-701c-437e-9990-aa2ffe047088",
        "id": "Y2JYLtxoSFnw"
      },
      "outputs": [
        {
          "output_type": "stream",
          "name": "stdout",
          "text": [
            "              precision    recall  f1-score   support\n",
            "\n",
            "       allow       1.00      1.00      1.00     11192\n",
            "        deny       0.99      0.97      0.98      4508\n",
            "        drop       0.96      1.00      0.98      3944\n",
            "\n",
            "    accuracy                           0.99     19644\n",
            "   macro avg       0.98      0.99      0.99     19644\n",
            "weighted avg       0.99      0.99      0.99     19644\n",
            "\n"
          ]
        }
      ],
      "source": [
        "#metrics\n",
        "print(classification_report(y_test, Pred0, target_names=target_names))"
      ],
      "id": "Y2JYLtxoSFnw"
    },
    {
      "cell_type": "code",
      "execution_count": null,
      "metadata": {
        "colab": {
          "base_uri": "https://localhost:8080/"
        },
        "id": "0f0447c1",
        "outputId": "ab2ca3eb-03d8-48bc-dbf8-7f1125f34f51"
      },
      "outputs": [
        {
          "output_type": "execute_result",
          "data": {
            "text/plain": [
              "Pipeline(steps=[('standardscaler', StandardScaler()),\n",
              "                ('svc', SVC(gamma='auto'))])"
            ]
          },
          "metadata": {},
          "execution_count": 43
        }
      ],
      "source": [
        "svcm1 = make_pipeline(StandardScaler(), SVC(gamma='auto'))\n",
        "svcm1.fit(X_train, y_train)"
      ],
      "id": "0f0447c1"
    },
    {
      "cell_type": "code",
      "execution_count": null,
      "metadata": {
        "id": "e67f1247"
      },
      "outputs": [],
      "source": [
        "Pred1 = svcm1.predict(X_test)"
      ],
      "id": "e67f1247"
    },
    {
      "cell_type": "code",
      "execution_count": null,
      "metadata": {
        "colab": {
          "base_uri": "https://localhost:8080/"
        },
        "id": "19237cd0",
        "outputId": "b16ddc00-d9a1-4bd2-a8f9-8a77dd772775"
      },
      "outputs": [
        {
          "output_type": "stream",
          "name": "stdout",
          "text": [
            "              precision    recall  f1-score   support\n",
            "\n",
            "       allow       1.00      1.00      1.00     11192\n",
            "        deny       0.99      0.97      0.98      4508\n",
            "        drop       0.96      1.00      0.98      3944\n",
            "\n",
            "    accuracy                           0.99     19644\n",
            "   macro avg       0.98      0.99      0.99     19644\n",
            "weighted avg       0.99      0.99      0.99     19644\n",
            "\n"
          ]
        }
      ],
      "source": [
        "#metrics\n",
        "print(classification_report(y_test, Pred1, target_names=target_names))"
      ],
      "id": "19237cd0"
    },
    {
      "cell_type": "code",
      "execution_count": null,
      "metadata": {
        "colab": {
          "base_uri": "https://localhost:8080/"
        },
        "outputId": "b84236bc-c5d4-4028-e46b-b1ca74d9a6fd",
        "id": "XMPu-uAZGw83"
      },
      "outputs": [
        {
          "output_type": "execute_result",
          "data": {
            "text/plain": [
              "Pipeline(steps=[('standardscaler', StandardScaler()),\n",
              "                ('svc', SVC(kernel='poly'))])"
            ]
          },
          "metadata": {},
          "execution_count": 46
        }
      ],
      "source": [
        "#sig kernel/auto gammma - across board metris down\n",
        "#sig kernel/scale gammma - sligthly better\n",
        "#poly kernel/auto gammma/degree = 3 - better!\n",
        "#poly kernel/auto gammma/degree = 4 - not as good!\n",
        "#poly kernel/auto gammma/degree = 5 - HORRID\n",
        "svcm2 = make_pipeline(StandardScaler(), SVC(kernel = 'poly', degree = 3, gamma='scale'))\n",
        "svcm2.fit(X_train, y_train)"
      ],
      "id": "XMPu-uAZGw83"
    },
    {
      "cell_type": "code",
      "execution_count": null,
      "metadata": {
        "id": "G77HWm1RHm-g"
      },
      "outputs": [],
      "source": [
        "Pred2 = svcm2.predict(X_test)"
      ],
      "id": "G77HWm1RHm-g"
    },
    {
      "cell_type": "code",
      "execution_count": null,
      "metadata": {
        "colab": {
          "base_uri": "https://localhost:8080/"
        },
        "outputId": "96dd6556-f18b-4cbe-dd30-6dbd454ae08f",
        "id": "RRkWwvtEHyJA"
      },
      "outputs": [
        {
          "output_type": "stream",
          "name": "stdout",
          "text": [
            "              precision    recall  f1-score   support\n",
            "\n",
            "       allow       1.00      0.97      0.99     11192\n",
            "        deny       0.99      0.96      0.97      4508\n",
            "        drop       0.90      1.00      0.95      3944\n",
            "\n",
            "    accuracy                           0.98     19644\n",
            "   macro avg       0.96      0.98      0.97     19644\n",
            "weighted avg       0.98      0.98      0.98     19644\n",
            "\n"
          ]
        }
      ],
      "source": [
        "#metrics\n",
        "print(classification_report(y_test, Pred2, target_names=target_names))"
      ],
      "id": "RRkWwvtEHyJA"
    },
    {
      "cell_type": "code",
      "source": [
        "sgdm0 = make_pipeline(StandardScaler(),\n",
        "                     SGDClassifier())\n",
        "sgdm0.fit(X_train, y_train)"
      ],
      "metadata": {
        "colab": {
          "base_uri": "https://localhost:8080/"
        },
        "id": "Z_iuXiiXSnVR",
        "outputId": "8445d437-c478-4568-f2ac-b951fce0da9d"
      },
      "id": "Z_iuXiiXSnVR",
      "execution_count": null,
      "outputs": [
        {
          "output_type": "execute_result",
          "data": {
            "text/plain": [
              "Pipeline(steps=[('standardscaler', StandardScaler()),\n",
              "                ('sgdclassifier', SGDClassifier())])"
            ]
          },
          "metadata": {},
          "execution_count": 49
        }
      ]
    },
    {
      "cell_type": "code",
      "source": [
        "Pred0_5 = sgdm0.predict(X_test)"
      ],
      "metadata": {
        "id": "IhTBGd8tSwAR"
      },
      "id": "IhTBGd8tSwAR",
      "execution_count": null,
      "outputs": []
    },
    {
      "cell_type": "code",
      "execution_count": null,
      "metadata": {
        "colab": {
          "base_uri": "https://localhost:8080/"
        },
        "outputId": "efb017c8-82a3-4a2f-b3b4-feea0d225b57",
        "id": "QkoH-4uhTFgZ"
      },
      "outputs": [
        {
          "output_type": "stream",
          "name": "stdout",
          "text": [
            "              precision    recall  f1-score   support\n",
            "\n",
            "       allow       1.00      0.99      1.00     11192\n",
            "        deny       0.99      0.96      0.97      4508\n",
            "        drop       0.95      1.00      0.97      3944\n",
            "\n",
            "    accuracy                           0.99     19644\n",
            "   macro avg       0.98      0.98      0.98     19644\n",
            "weighted avg       0.99      0.99      0.99     19644\n",
            "\n"
          ]
        }
      ],
      "source": [
        "#metrics\n",
        "print(classification_report(y_test, Pred0_5, target_names=target_names))"
      ],
      "id": "QkoH-4uhTFgZ"
    },
    {
      "cell_type": "code",
      "execution_count": null,
      "metadata": {
        "id": "d6f9b501",
        "colab": {
          "base_uri": "https://localhost:8080/"
        },
        "outputId": "1719df6e-6525-4cd7-b835-2bdb8c02e51d"
      },
      "outputs": [
        {
          "output_type": "execute_result",
          "data": {
            "text/plain": [
              "Pipeline(steps=[('standardscaler', StandardScaler()),\n",
              "                ('sgdclassifier', SGDClassifier())])"
            ]
          },
          "metadata": {},
          "execution_count": 52
        }
      ],
      "source": [
        "sgdm1 = make_pipeline(StandardScaler(),\n",
        "                     SGDClassifier(max_iter=1000, tol=1e-3))\n",
        "sgdm1.fit(X_train, y_train)"
      ],
      "id": "d6f9b501"
    },
    {
      "cell_type": "code",
      "execution_count": null,
      "metadata": {
        "id": "7343b6d6"
      },
      "outputs": [],
      "source": [
        "Pred3 = sgdm1.predict(X_test)"
      ],
      "id": "7343b6d6"
    },
    {
      "cell_type": "code",
      "execution_count": null,
      "metadata": {
        "id": "pLhC-kxDf7sW",
        "colab": {
          "base_uri": "https://localhost:8080/"
        },
        "outputId": "54313b86-b3bc-43c4-c1b1-c7fdfcdbf797"
      },
      "outputs": [
        {
          "output_type": "stream",
          "name": "stdout",
          "text": [
            "              precision    recall  f1-score   support\n",
            "\n",
            "       allow       1.00      0.99      1.00     11192\n",
            "        deny       0.99      0.95      0.97      4508\n",
            "        drop       0.94      1.00      0.97      3944\n",
            "\n",
            "    accuracy                           0.99     19644\n",
            "   macro avg       0.98      0.98      0.98     19644\n",
            "weighted avg       0.99      0.99      0.99     19644\n",
            "\n"
          ]
        }
      ],
      "source": [
        "#metrics\n",
        "print(classification_report(y_test, Pred3, target_names=target_names))"
      ],
      "id": "pLhC-kxDf7sW"
    },
    {
      "cell_type": "code",
      "execution_count": null,
      "metadata": {
        "colab": {
          "base_uri": "https://localhost:8080/"
        },
        "outputId": "c2242c49-428d-4ee7-f3eb-1464c0fd24d6",
        "id": "PjJAO_xpQhAi"
      },
      "outputs": [
        {
          "output_type": "execute_result",
          "data": {
            "text/plain": [
              "Pipeline(steps=[('standardscaler', StandardScaler()),\n",
              "                ('sgdclassifier', SGDClassifier(penalty='l1'))])"
            ]
          },
          "metadata": {},
          "execution_count": 55
        }
      ],
      "source": [
        "#loss ='log', max_iter=1000, tol=1e-3 - precision drop\n",
        "#loss ='hinge', max_iter=1000, tol=1e-3, penalty =  'l1' - all scores went up\n",
        "#loss ='hinge', max_iter=1000, tol=1e-3, penalty =  'elasticnet' - mid\n",
        "sgdm2 = make_pipeline(StandardScaler(),\n",
        "                     SGDClassifier(loss ='hinge', max_iter=1000, tol=1e-3, penalty =  'l1'))\n",
        "sgdm2.fit(X_train, y_train)"
      ],
      "id": "PjJAO_xpQhAi"
    },
    {
      "cell_type": "code",
      "execution_count": null,
      "metadata": {
        "id": "FIkagVzGQ6ox"
      },
      "outputs": [],
      "source": [
        "Pred4 = sgdm2.predict(X_test)"
      ],
      "id": "FIkagVzGQ6ox"
    },
    {
      "cell_type": "code",
      "execution_count": null,
      "metadata": {
        "colab": {
          "base_uri": "https://localhost:8080/"
        },
        "outputId": "57c4b905-5930-438c-cd23-d19ad5e132f7",
        "id": "ckGBbY8VQ_fa"
      },
      "outputs": [
        {
          "output_type": "stream",
          "name": "stdout",
          "text": [
            "              precision    recall  f1-score   support\n",
            "\n",
            "       allow       1.00      1.00      1.00     11192\n",
            "        deny       0.99      0.97      0.98      4508\n",
            "        drop       0.97      1.00      0.98      3944\n",
            "\n",
            "    accuracy                           0.99     19644\n",
            "   macro avg       0.99      0.99      0.99     19644\n",
            "weighted avg       0.99      0.99      0.99     19644\n",
            "\n"
          ]
        }
      ],
      "source": [
        "#metrics\n",
        "print(classification_report(y_test, Pred4, target_names=target_names))"
      ],
      "id": "ckGBbY8VQ_fa"
    }
  ],
  "metadata": {
    "colab": {
      "collapsed_sections": [],
      "provenance": []
    },
    "kernelspec": {
      "display_name": "Python 3 (ipykernel)",
      "language": "python",
      "name": "python3"
    },
    "language_info": {
      "codemirror_mode": {
        "name": "ipython",
        "version": 3
      },
      "file_extension": ".py",
      "mimetype": "text/x-python",
      "name": "python",
      "nbconvert_exporter": "python",
      "pygments_lexer": "ipython3",
      "version": "3.9.7"
    }
  },
  "nbformat": 4,
  "nbformat_minor": 5
}